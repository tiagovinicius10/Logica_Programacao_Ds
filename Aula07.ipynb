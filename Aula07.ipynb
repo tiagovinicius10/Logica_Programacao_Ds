{
 "cells": [
  {
   "cell_type": "code",
   "execution_count": null,
   "metadata": {},
   "outputs": [],
   "source": [
    "lista = [1,2,3,4,5,6,7]\n",
    "print(lista)\n",
    "lista.remove(2)"
   ]
  },
  {
   "cell_type": "markdown",
   "metadata": {},
   "source": [
    "# Aula 07\n",
    "#### Revisão e markdown\n",
    "\n",
    "*italico* ou _italico_\n",
    "**negrito** ou __negrito__\n",
    "**_negrito e italico_**\n",
    "\n",
    "linhas ordenadas\n",
    "\n",
    "1. Item A\n",
    "2. Item B\n",
    "3. Item C\n",
    "\n",
    "Linhas não ordenada\n",
    "- Item A\n",
    "\n",
    "linhas alinhadas\n",
    "- Item A\n",
    " - Subitem A\n",
    " - Subitem B\n",
    "\n",
    " Links\n",
    "\n",
    " [Texto](http://exemplo.com)\n",
    "\n",
    " Imagem\n",
    "\n",
    " ![Texto Alternativo](http://exemplo.com/imagem.jpg)\n",
    "\n",
    " "
   ]
  },
  {
   "cell_type": "code",
   "execution_count": null,
   "metadata": {},
   "outputs": [],
   "source": [
    "nome = ['Kaue', 'Rodrigues', 'Silva']\n",
    "\n",
    "for i, j in enumerate(nome):\n",
    "    print(f'{i + 1}°{j}')"
   ]
  },
  {
   "cell_type": "code",
   "execution_count": null,
   "metadata": {},
   "outputs": [],
   "source": [
    "nome = 'Kaue'\n",
    "\n",
    "for i in nome:\n",
    "    print(i)"
   ]
  },
  {
   "cell_type": "code",
   "execution_count": 1,
   "metadata": {},
   "outputs": [],
   "source": [
    "from time import sleep\n",
    "import os\n",
    "\n",
    "x = int(input('Digite o numero de segundos da contagem regressiva: '))\n",
    "\n",
    "for i in range(x, -1, -1):\n",
    "    print(i)\n",
    "    print(1)\n",
    "    os.system('cls')\n",
    "\n",
    "~int('Fim da contagem')"
   ]
  },
  {
   "cell_type": "code",
   "execution_count": null,
   "metadata": {},
   "outputs": [],
   "source": [
    "lista = ['uva', 'pera', 'melancia', 'abacaxi', 'limao', 'manga']\n",
    "\n",
    "for i in lista:\n",
    "    if i == 'limao':\n",
    "        print(i)"
   ]
  },
  {
   "cell_type": "code",
   "execution_count": null,
   "metadata": {},
   "outputs": [],
   "source": [
    "contador = 0\n",
    "soma = 0\n",
    "\n",
    "for i in range(1, 101):\n",
    "    if 1 % 2 != 0:\n",
    "        contador +=1\n",
    "        soma += i\n",
    "\n",
    "print(f'A soma dos números impares é: {soma}')\n",
    "print(f'A quantidade total de números impares é: {contador}')"
   ]
  }
 ],
 "metadata": {
  "kernelspec": {
   "display_name": "venv",
   "language": "python",
   "name": "python3"
  },
  "language_info": {
   "codemirror_mode": {
    "name": "ipython",
    "version": 3
   },
   "file_extension": ".py",
   "mimetype": "text/x-python",
   "name": "python",
   "nbconvert_exporter": "python",
   "pygments_lexer": "ipython3",
   "version": "3.12.6"
  }
 },
 "nbformat": 4,
 "nbformat_minor": 2
}
