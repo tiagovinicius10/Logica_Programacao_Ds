{
 "cells": [
  {
   "cell_type": "code",
   "execution_count": null,
   "metadata": {},
   "outputs": [],
   "source": [
    "altura = int(input('Digite a altura da árvore: '))\n",
    "\n",
    "for i in range(1, altura): \n",
    "    for _ in range(altura - i): \n",
    "        print(' ', end='') \n",
    "\n",
    "for _ in range(i): \n",
    "    print('*', end='') \n",
    "\n",
    "print()"
   ]
  },
  {
   "cell_type": "code",
   "execution_count": null,
   "metadata": {},
   "outputs": [],
   "source": [
    "while True:\n",
    "    altura = int(input('Digite a altura da piramide: '))\n",
    "\n",
    "    if altura > 1:\n",
    "        break\n",
    "\n",
    "for i in range(altura):\n",
    "    print(' ' * (altura - (i + 1)) + '#' * (2* i +1))"
   ]
  },
  {
   "cell_type": "code",
   "execution_count": null,
   "metadata": {},
   "outputs": [],
   "source": [
    "while True:\n",
    "    lista_usuario = []\n",
    "    print('1. Cadastrar usuario.')\n",
    "    print('2. Listar usuario.')\n",
    "    print('3. Excluir usuario.')\n",
    "    print('4. Sair')\n",
    "\n",
    "    opcao = input('Digite a opcao desejada')"
   ]
  }
 ],
 "metadata": {
  "kernelspec": {
   "display_name": "venv",
   "language": "python",
   "name": "python3"
  },
  "language_info": {
   "codemirror_mode": {
    "name": "ipython",
    "version": 3
   },
   "file_extension": ".py",
   "mimetype": "text/x-python",
   "name": "python",
   "nbconvert_exporter": "python",
   "pygments_lexer": "ipython3",
   "version": "3.12.6"
  }
 },
 "nbformat": 4,
 "nbformat_minor": 2
}
