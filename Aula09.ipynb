{
 "cells": [
  {
   "cell_type": "code",
   "execution_count": 4,
   "metadata": {},
   "outputs": [
    {
     "name": "stdout",
     "output_type": "stream",
     "text": [
      "BELO OLEB\n",
      "Não é palindromo!\n"
     ]
    }
   ],
   "source": [
    "frase = str(input('Digite uma palavra ou frase: ')).strip().upper()\n",
    "\n",
    "palavras = frase.split()\n",
    "caractere = '-'.join(palavras)\n",
    "\n",
    "fraseinvertida = ''\n",
    "\n",
    "for i in range(len(caractere) -1, -1, -1):\n",
    "    fraseinvertida += caractere[i]\n",
    "\n",
    "print(caractere, fraseinvertida)\n",
    "\n",
    "if fraseinvertida == caractere:\n",
    "    print('É um palindromo!')\n",
    "else:\n",
    "    print('Não é palindromo!')"
   ]
  },
  {
   "cell_type": "code",
   "execution_count": 5,
   "metadata": {},
   "outputs": [
    {
     "name": "stdout",
     "output_type": "stream",
     "text": [
      "cpf: 123.456.789-20\n"
     ]
    }
   ],
   "source": [
    "cpf = input('Digite seu CPF: ').replace('-', '').replace('-', '')\n",
    "print(f'cpf: {cpf[:3]}.{cpf[3:6]}.{cpf[6:9]}-{cpf[9:]}')"
   ]
  },
  {
   "cell_type": "code",
   "execution_count": 7,
   "metadata": {},
   "outputs": [
    {
     "name": "stdout",
     "output_type": "stream",
     "text": [
      "{'Pão': 'R$1,99', 'Açucar': 'R$4,99', 'Café': 'R$15,00', 'Macarrao': 'R$8,00', 'Carne': 'R$40,00'}\n"
     ]
    }
   ],
   "source": [
    "dicionario = dict(\n",
    "    Pão = 'R$1,99',\n",
    "    Açucar = 'R$4,99',\n",
    "    Café = 'R$15,00',\n",
    "    Macarrao = 'R$8,00',\n",
    "    Carne = 'R$40,00',\n",
    ")\n",
    "\n",
    "print (dicionario)"
   ]
  },
  {
   "cell_type": "code",
   "execution_count": 9,
   "metadata": {},
   "outputs": [
    {
     "ename": "SyntaxError",
     "evalue": "invalid syntax. Perhaps you forgot a comma? (3759179317.py, line 3)",
     "output_type": "error",
     "traceback": [
      "\u001b[1;36m  Cell \u001b[1;32mIn[9], line 3\u001b[1;36m\u001b[0m\n\u001b[1;33m    101 : {'Nome' : 'Chocolate', 'Preco' : 5.00, 'estoque' : 10}\u001b[0m\n\u001b[1;37m          ^\u001b[0m\n\u001b[1;31mSyntaxError\u001b[0m\u001b[1;31m:\u001b[0m invalid syntax. Perhaps you forgot a comma?\n"
     ]
    }
   ],
   "source": [
    "# Criando o dicionario de produto\n",
    "produtos = {\n",
    "    101 : {'Nome' : 'Chocolate', 'Preco' : 5.00, 'estoque' : 10},\n",
    "    102 : {'Nome' : 'Pão', 'preco' : 16.99, 'estoque' : 100},\n",
    "    103 : {'nome' : 'Biscoito', 'preco' : 2.99, 'estoque' : 20}\n",
    "}\n",
    "\n",
    "print(produtos)"
   ]
  }
 ],
 "metadata": {
  "kernelspec": {
   "display_name": "venv",
   "language": "python",
   "name": "python3"
  },
  "language_info": {
   "codemirror_mode": {
    "name": "ipython",
    "version": 3
   },
   "file_extension": ".py",
   "mimetype": "text/x-python",
   "name": "python",
   "nbconvert_exporter": "python",
   "pygments_lexer": "ipython3",
   "version": "3.12.6"
  }
 },
 "nbformat": 4,
 "nbformat_minor": 2
}
